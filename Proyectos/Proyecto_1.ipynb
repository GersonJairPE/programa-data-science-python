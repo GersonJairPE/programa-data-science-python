{
 "cells": [
  {
   "cell_type": "markdown",
   "metadata": {},
   "source": [
    "# PROYECTO 1"
   ]
  },
  {
   "cell_type": "markdown",
   "metadata": {},
   "source": [
    "## Ejercicio 1"
   ]
  },
  {
   "cell_type": "code",
   "execution_count": 2,
   "metadata": {},
   "outputs": [],
   "source": [
    "# Importamos las librerías necesarias\n",
    "import pandas as pd\n",
    "import numpy as np"
   ]
  },
  {
   "cell_type": "code",
   "execution_count": 11,
   "metadata": {},
   "outputs": [
    {
     "data": {
      "text/html": [
       "<div>\n",
       "<style scoped>\n",
       "    .dataframe tbody tr th:only-of-type {\n",
       "        vertical-align: middle;\n",
       "    }\n",
       "\n",
       "    .dataframe tbody tr th {\n",
       "        vertical-align: top;\n",
       "    }\n",
       "\n",
       "    .dataframe thead th {\n",
       "        text-align: right;\n",
       "    }\n",
       "</style>\n",
       "<table border=\"1\" class=\"dataframe\">\n",
       "  <thead>\n",
       "    <tr style=\"text-align: right;\">\n",
       "      <th></th>\n",
       "      <th>Fecha</th>\n",
       "      <th>Precio_unit</th>\n",
       "      <th>Ventas</th>\n",
       "      <th>Ganancia</th>\n",
       "      <th>Ganancia_Desc_5%</th>\n",
       "    </tr>\n",
       "  </thead>\n",
       "  <tbody>\n",
       "    <tr>\n",
       "      <th>0</th>\n",
       "      <td>01-01-2022</td>\n",
       "      <td>34</td>\n",
       "      <td>2345</td>\n",
       "      <td>79730</td>\n",
       "      <td>75743.5</td>\n",
       "    </tr>\n",
       "    <tr>\n",
       "      <th>1</th>\n",
       "      <td>02-01-2022</td>\n",
       "      <td>54</td>\n",
       "      <td>2345</td>\n",
       "      <td>126630</td>\n",
       "      <td>120298.5</td>\n",
       "    </tr>\n",
       "  </tbody>\n",
       "</table>\n",
       "</div>"
      ],
      "text/plain": [
       "        Fecha  Precio_unit  Ventas  Ganancia  Ganancia_Desc_5%\n",
       "0  01-01-2022           34    2345     79730           75743.5\n",
       "1  02-01-2022           54    2345    126630          120298.5"
      ]
     },
     "execution_count": 11,
     "metadata": {},
     "output_type": "execute_result"
    }
   ],
   "source": [
    "'''\n",
    "En este ejercicio se realiza las procedimientos para mostrar las ultimas 5 ventas que el usuario va ingresando\n",
    "al dataFrame\n",
    "'''\n",
    "\n",
    "# Inicializamos un identificador para verificar si el usuario seguira ingresando datos\n",
    "n = 'y'\n",
    "\n",
    "# Establecemos las columnas iniciales y creamos un dataFrame vacío\n",
    "columnas = ['Fecha','Precio_unit', 'Ventas']\n",
    "df = pd.DataFrame()\n",
    "\n",
    "# En este bucle validamos si se continuará pidiendo datos\n",
    "while n =='y':\n",
    "\n",
    "    # solicitamos al usuario los datos necesarios y los guardamos e identificadores\n",
    "    fecha = input(\"ingrese fecha (dd-mm-aaaa): \") \n",
    "    precio_unit = int(input('ingrese precio unitario del producto: '))\n",
    "    ventas = int(input('Ingrese cantidad de ventas del día: '))\n",
    "\n",
    "    # Posteriormente guardamos los datos en un dataFrame\n",
    "    add_row = pd.DataFrame([[fecha,precio_unit,ventas]], columns=columnas)\n",
    "    \n",
    "    # Concatenamos los datos ingresados y vamos llenando el dataFrame vacío\n",
    "    df = pd.concat([df, add_row], ignore_index=True)\n",
    "\n",
    "    # Generamos la ganancia sin descuento y con descuento\n",
    "    df['Ganancia'] = df['Ventas']*df['Precio_unit']\n",
    "    df['Ganancia_Desc_5%'] = (df['Precio_unit'] - df['Precio_unit']*0.05).round(2)*df['Ventas']\n",
    "\n",
    "    #Preguntamos si se desea ingresar más productos\n",
    "    n = input('Desea ingresar otro producto? (y/n): ')\n",
    "\n",
    "# Finalmente mostramos los ultimos 5 productos ingresados    \n",
    "df.sort_values('Fecha').tail(5)"
   ]
  },
  {
   "cell_type": "markdown",
   "metadata": {},
   "source": [
    "## Ejercicio 2"
   ]
  },
  {
   "cell_type": "code",
   "execution_count": null,
   "metadata": {},
   "outputs": [],
   "source": [
    "ingresos = {\n",
    "    \"empleado1\": 200,\n",
    "    \"empleado2\": 435,\n",
    "    \"empleado3\": 567,\n",
    "    \"empleado4\": 123,\n",
    "    \"empleado5\": 657,\n",
    "    \"empleado6\": 876,\n",
    "    \"empleado7\": 1023,\n",
    "    \"empleado8\": 2134,\n",
    "    \"empleado9\": 21343\n",
    "}\n",
    "\n",
    "# Creamos un dataFrame con los valores del diccionario como datos principales\n",
    "# Creamos los index del dataFrame con los 'keys' del diccionario y colocamos la columan de ingresos\n",
    "df2 = pd.DataFrame(ingresos.values(),\n",
    "                   index=ingresos.keys(),\n",
    "                   columns=[\"Ingreso\"])\n",
    "\n",
    "# Guardamos la descripción del dataFrame en un identificador\n",
    "df2_desc = df2.describe().round(1)\n",
    "\n",
    "# Colocamos un nombre a la columna\n",
    "df2_desc.columns = [\"Datos_estadísticos\"]\n",
    "\n",
    "# Y seleccionamos solo los datos que se desean mostrar (min, max, media)\n",
    "datos = ['min', 'max', 'mean']\n",
    "df2_desc.loc[df2_desc.index.isin(datos)]\n",
    "df2\n"
   ]
  },
  {
   "cell_type": "markdown",
   "metadata": {},
   "source": [
    "## Ejercicio 3"
   ]
  },
  {
   "cell_type": "code",
   "execution_count": null,
   "metadata": {},
   "outputs": [],
   "source": [
    "# Creamos un diccionario con los datos del ejercicio\n",
    "data3 = {\n",
    "    \"Mes\":[\"Enero\", \"Febrero\", \"Marzo\", \"Abril\", \"Mayo\"],\n",
    "    \"Ventas\":[30500, 35600, 28300, 33900, 42500],\n",
    "    \"Gastos\":[22000, 23450, 18100, 35700, 32450]\n",
    "}\n",
    "# Creamos un dataFrame con los datos\n",
    "df3 = pd.DataFrame(data3)\n",
    "\n",
    "# 1. Columna 1 = Gasto/Ventas*100\n",
    "# Realizamos los calculos y guardamos en una nueva columna\n",
    "df3['Columna 1'] = ((df3['Gastos']/df3['Ventas'])*100).round(2)\n",
    "\n",
    "# 2. Columna 2 = Si Ventas>= 30000, imprimir “Meta Superada”, caso contrario imprimir “Meta no Superada”.\n",
    "# Hacemos uso de la función \"lambda\" para aplicar la condición e imprimir si se superó la meta\n",
    "df3['Columna 2'] = df3['Ventas'].apply(lambda x : \"Meta superada\" if x>= 30000 else \"Meta no superada\")\n",
    "\n",
    "# 3. Columna 3 = Si Gasto>Ventas, calcular el sobre gasto.\n",
    "# Usamos la funcion \"where\" de \"numpy\" para verificar la condicionas fila a fila y colocamos la diferencia si se cumple\n",
    "df3['Columna 3'] = np.where(df3['Gastos']>df3['Ventas'], df3['Gastos']-df3['Ventas'], np.nan)\n",
    "\n",
    "#Mostramos la data oculatando los index\n",
    "df3.style.hide(axis='index')"
   ]
  },
  {
   "cell_type": "code",
   "execution_count": null,
   "metadata": {},
   "outputs": [],
   "source": [
    "# 4. Obtener el total de las ventas de los últimos 3 meses\n",
    "df3.tail(3)"
   ]
  },
  {
   "cell_type": "code",
   "execution_count": null,
   "metadata": {},
   "outputs": [],
   "source": [
    "# 5. Obtener el total de gastos de febrero a abril\n",
    "meses = ['Febrero', 'Marzo', 'Abril']\n",
    "# Para la columna \"Gastos\" verificamos que los elementos de la columna \"Mes\" se encuentren en la lista \"meses\",\n",
    "# si es el caso entonces sumamos el total de gastos\n",
    "print(\"Total gastos de 'Febrero', 'Marzo' y 'Abril' es: \", df3['Gastos'][df3['Mes'].isin(meses)].sum())"
   ]
  },
  {
   "cell_type": "markdown",
   "metadata": {},
   "source": [
    "## Ejercicio 4"
   ]
  },
  {
   "cell_type": "code",
   "execution_count": null,
   "metadata": {},
   "outputs": [],
   "source": [
    "# Cargamos la data del archivo CSV\n",
    "df4 = pd.read_csv('Data - Riesgos.csv', index_col='ID')\n",
    "\n",
    "# Con size obtenemos la cantidad total de datos\n",
    "print(\"Cantidad de datos: \",df4.size)\n",
    "print(\"\")\n",
    "# Con shape obtenemos las dimensiones del dataFrame\n",
    "print(\"Dimensiones del DataFrame: \",df4.shape)\n",
    "print(\"\")\n",
    "# Con columns tenemos los nombres de las columnas\n",
    "print(\"Columnas: \",df4.columns)\n",
    "print(\"\")\n",
    "# Con index tenemos los nombres de las filas\n",
    "print(\"Filas: \",df4.index)\n",
    "print(\"\")\n",
    "# dytpes nos sirve para obtener los tipos de datos de las columnas\n",
    "print(df4.dtypes)\n"
   ]
  },
  {
   "cell_type": "code",
   "execution_count": null,
   "metadata": {},
   "outputs": [],
   "source": [
    "# Mostramos las 10 primeras filas con la funcion head\n",
    "df4.head(10)"
   ]
  },
  {
   "cell_type": "code",
   "execution_count": null,
   "metadata": {},
   "outputs": [],
   "source": [
    "# Mostramos las 10 ultimas filas con la función tail\n",
    "df4.tail(10)"
   ]
  },
  {
   "cell_type": "code",
   "execution_count": null,
   "metadata": {},
   "outputs": [],
   "source": [
    "# Para verificar si tenemos datos nulos, usamos la función 'isnull' y luego sumamos la cantiad de datos nulos para analizarlo\n",
    "df4.isnull().sum()"
   ]
  },
  {
   "cell_type": "code",
   "execution_count": null,
   "metadata": {},
   "outputs": [],
   "source": [
    "# Si queremos guardar en un contenerdor, usamos la función 'copy()' para que nuestra data original no se altere\n",
    "# Adicionalmente seleccionamos las 10 primeras filas del dataFrame\n",
    "df4_head_100 = df4.head(100).copy()\n",
    "df4_head_100"
   ]
  }
 ],
 "metadata": {
  "kernelspec": {
   "display_name": "Python 3.9.12 ('base')",
   "language": "python",
   "name": "python3"
  },
  "language_info": {
   "codemirror_mode": {
    "name": "ipython",
    "version": 3
   },
   "file_extension": ".py",
   "mimetype": "text/x-python",
   "name": "python",
   "nbconvert_exporter": "python",
   "pygments_lexer": "ipython3",
   "version": "3.9.12"
  },
  "orig_nbformat": 4,
  "vscode": {
   "interpreter": {
    "hash": "0d2d48f5ad862ede81950aeb621ce41473b4c2df4741a1578f8c025687d7bb4b"
   }
  }
 },
 "nbformat": 4,
 "nbformat_minor": 2
}
